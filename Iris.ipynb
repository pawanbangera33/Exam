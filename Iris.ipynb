{
 "cells": [
  {
   "cell_type": "code",
   "execution_count": 1,
   "id": "f0e7e5db-6ad9-41a4-a1d0-a8ce46fe58f6",
   "metadata": {},
   "outputs": [],
   "source": [
    "import pandas as pd\n",
    "import numpy as np"
   ]
  },
  {
   "cell_type": "code",
   "execution_count": 14,
   "id": "09b6050f-3fc0-41eb-8b89-8362df0f0e98",
   "metadata": {},
   "outputs": [
    {
     "data": {
      "text/html": [
       "<div>\n",
       "<style scoped>\n",
       "    .dataframe tbody tr th:only-of-type {\n",
       "        vertical-align: middle;\n",
       "    }\n",
       "\n",
       "    .dataframe tbody tr th {\n",
       "        vertical-align: top;\n",
       "    }\n",
       "\n",
       "    .dataframe thead th {\n",
       "        text-align: right;\n",
       "    }\n",
       "</style>\n",
       "<table border=\"1\" class=\"dataframe\">\n",
       "  <thead>\n",
       "    <tr style=\"text-align: right;\">\n",
       "      <th></th>\n",
       "      <th>sepal_length</th>\n",
       "      <th>sepal_width</th>\n",
       "      <th>petal_length</th>\n",
       "      <th>petal_width</th>\n",
       "      <th>species</th>\n",
       "    </tr>\n",
       "  </thead>\n",
       "  <tbody>\n",
       "    <tr>\n",
       "      <th>0</th>\n",
       "      <td>5.1</td>\n",
       "      <td>3.5</td>\n",
       "      <td>1.4</td>\n",
       "      <td>0.2</td>\n",
       "      <td>setosa</td>\n",
       "    </tr>\n",
       "    <tr>\n",
       "      <th>1</th>\n",
       "      <td>4.9</td>\n",
       "      <td>3.0</td>\n",
       "      <td>1.4</td>\n",
       "      <td>0.2</td>\n",
       "      <td>setosa</td>\n",
       "    </tr>\n",
       "    <tr>\n",
       "      <th>2</th>\n",
       "      <td>4.7</td>\n",
       "      <td>3.2</td>\n",
       "      <td>1.3</td>\n",
       "      <td>0.2</td>\n",
       "      <td>setosa</td>\n",
       "    </tr>\n",
       "    <tr>\n",
       "      <th>3</th>\n",
       "      <td>4.6</td>\n",
       "      <td>3.1</td>\n",
       "      <td>1.5</td>\n",
       "      <td>0.2</td>\n",
       "      <td>setosa</td>\n",
       "    </tr>\n",
       "    <tr>\n",
       "      <th>4</th>\n",
       "      <td>5.0</td>\n",
       "      <td>3.6</td>\n",
       "      <td>1.4</td>\n",
       "      <td>0.2</td>\n",
       "      <td>setosa</td>\n",
       "    </tr>\n",
       "    <tr>\n",
       "      <th>...</th>\n",
       "      <td>...</td>\n",
       "      <td>...</td>\n",
       "      <td>...</td>\n",
       "      <td>...</td>\n",
       "      <td>...</td>\n",
       "    </tr>\n",
       "    <tr>\n",
       "      <th>145</th>\n",
       "      <td>6.7</td>\n",
       "      <td>3.0</td>\n",
       "      <td>5.2</td>\n",
       "      <td>2.3</td>\n",
       "      <td>virginica</td>\n",
       "    </tr>\n",
       "    <tr>\n",
       "      <th>146</th>\n",
       "      <td>6.3</td>\n",
       "      <td>2.5</td>\n",
       "      <td>5.0</td>\n",
       "      <td>1.9</td>\n",
       "      <td>virginica</td>\n",
       "    </tr>\n",
       "    <tr>\n",
       "      <th>147</th>\n",
       "      <td>6.5</td>\n",
       "      <td>3.0</td>\n",
       "      <td>5.2</td>\n",
       "      <td>2.0</td>\n",
       "      <td>virginica</td>\n",
       "    </tr>\n",
       "    <tr>\n",
       "      <th>148</th>\n",
       "      <td>6.2</td>\n",
       "      <td>3.4</td>\n",
       "      <td>5.4</td>\n",
       "      <td>2.3</td>\n",
       "      <td>virginica</td>\n",
       "    </tr>\n",
       "    <tr>\n",
       "      <th>149</th>\n",
       "      <td>5.9</td>\n",
       "      <td>3.0</td>\n",
       "      <td>5.1</td>\n",
       "      <td>1.8</td>\n",
       "      <td>virginica</td>\n",
       "    </tr>\n",
       "  </tbody>\n",
       "</table>\n",
       "<p>150 rows × 5 columns</p>\n",
       "</div>"
      ],
      "text/plain": [
       "     sepal_length  sepal_width  petal_length  petal_width    species\n",
       "0             5.1          3.5           1.4          0.2     setosa\n",
       "1             4.9          3.0           1.4          0.2     setosa\n",
       "2             4.7          3.2           1.3          0.2     setosa\n",
       "3             4.6          3.1           1.5          0.2     setosa\n",
       "4             5.0          3.6           1.4          0.2     setosa\n",
       "..            ...          ...           ...          ...        ...\n",
       "145           6.7          3.0           5.2          2.3  virginica\n",
       "146           6.3          2.5           5.0          1.9  virginica\n",
       "147           6.5          3.0           5.2          2.0  virginica\n",
       "148           6.2          3.4           5.4          2.3  virginica\n",
       "149           5.9          3.0           5.1          1.8  virginica\n",
       "\n",
       "[150 rows x 5 columns]"
      ]
     },
     "execution_count": 14,
     "metadata": {},
     "output_type": "execute_result"
    }
   ],
   "source": [
    "df = pd.read_csv('C:\\\\Users\\\\Aspir\\\\Downloads\\\\iris.csv')\n",
    "df"
   ]
  },
  {
   "cell_type": "code",
   "execution_count": 15,
   "id": "bbe71fdc-0e84-40fc-8864-f6735fc15830",
   "metadata": {},
   "outputs": [],
   "source": [
    "from sklearn.preprocessing import LabelEncoder\n",
    "label = LabelEncoder()\n",
    "df['species'] = label.fit_transform(df['species'])"
   ]
  },
  {
   "cell_type": "code",
   "execution_count": 16,
   "id": "5faa3b11-8e27-4e3e-802f-d8a636efd883",
   "metadata": {},
   "outputs": [
    {
     "data": {
      "text/plain": [
       "sepal_length    0\n",
       "sepal_width     0\n",
       "petal_length    0\n",
       "petal_width     0\n",
       "species         0\n",
       "dtype: int64"
      ]
     },
     "execution_count": 16,
     "metadata": {},
     "output_type": "execute_result"
    }
   ],
   "source": [
    "df.isnull().sum()"
   ]
  },
  {
   "cell_type": "code",
   "execution_count": 18,
   "id": "8c0d5ed1-41e1-42fb-97c8-5e0d13117cff",
   "metadata": {},
   "outputs": [
    {
     "data": {
      "text/html": [
       "<div>\n",
       "<style scoped>\n",
       "    .dataframe tbody tr th:only-of-type {\n",
       "        vertical-align: middle;\n",
       "    }\n",
       "\n",
       "    .dataframe tbody tr th {\n",
       "        vertical-align: top;\n",
       "    }\n",
       "\n",
       "    .dataframe thead th {\n",
       "        text-align: right;\n",
       "    }\n",
       "</style>\n",
       "<table border=\"1\" class=\"dataframe\">\n",
       "  <thead>\n",
       "    <tr style=\"text-align: right;\">\n",
       "      <th></th>\n",
       "      <th>sepal_length</th>\n",
       "      <th>sepal_width</th>\n",
       "      <th>petal_length</th>\n",
       "      <th>petal_width</th>\n",
       "    </tr>\n",
       "  </thead>\n",
       "  <tbody>\n",
       "    <tr>\n",
       "      <th>0</th>\n",
       "      <td>5.1</td>\n",
       "      <td>3.5</td>\n",
       "      <td>1.4</td>\n",
       "      <td>0.2</td>\n",
       "    </tr>\n",
       "    <tr>\n",
       "      <th>1</th>\n",
       "      <td>4.9</td>\n",
       "      <td>3.0</td>\n",
       "      <td>1.4</td>\n",
       "      <td>0.2</td>\n",
       "    </tr>\n",
       "    <tr>\n",
       "      <th>2</th>\n",
       "      <td>4.7</td>\n",
       "      <td>3.2</td>\n",
       "      <td>1.3</td>\n",
       "      <td>0.2</td>\n",
       "    </tr>\n",
       "    <tr>\n",
       "      <th>3</th>\n",
       "      <td>4.6</td>\n",
       "      <td>3.1</td>\n",
       "      <td>1.5</td>\n",
       "      <td>0.2</td>\n",
       "    </tr>\n",
       "    <tr>\n",
       "      <th>4</th>\n",
       "      <td>5.0</td>\n",
       "      <td>3.6</td>\n",
       "      <td>1.4</td>\n",
       "      <td>0.2</td>\n",
       "    </tr>\n",
       "    <tr>\n",
       "      <th>...</th>\n",
       "      <td>...</td>\n",
       "      <td>...</td>\n",
       "      <td>...</td>\n",
       "      <td>...</td>\n",
       "    </tr>\n",
       "    <tr>\n",
       "      <th>145</th>\n",
       "      <td>6.7</td>\n",
       "      <td>3.0</td>\n",
       "      <td>5.2</td>\n",
       "      <td>2.3</td>\n",
       "    </tr>\n",
       "    <tr>\n",
       "      <th>146</th>\n",
       "      <td>6.3</td>\n",
       "      <td>2.5</td>\n",
       "      <td>5.0</td>\n",
       "      <td>1.9</td>\n",
       "    </tr>\n",
       "    <tr>\n",
       "      <th>147</th>\n",
       "      <td>6.5</td>\n",
       "      <td>3.0</td>\n",
       "      <td>5.2</td>\n",
       "      <td>2.0</td>\n",
       "    </tr>\n",
       "    <tr>\n",
       "      <th>148</th>\n",
       "      <td>6.2</td>\n",
       "      <td>3.4</td>\n",
       "      <td>5.4</td>\n",
       "      <td>2.3</td>\n",
       "    </tr>\n",
       "    <tr>\n",
       "      <th>149</th>\n",
       "      <td>5.9</td>\n",
       "      <td>3.0</td>\n",
       "      <td>5.1</td>\n",
       "      <td>1.8</td>\n",
       "    </tr>\n",
       "  </tbody>\n",
       "</table>\n",
       "<p>150 rows × 4 columns</p>\n",
       "</div>"
      ],
      "text/plain": [
       "     sepal_length  sepal_width  petal_length  petal_width\n",
       "0             5.1          3.5           1.4          0.2\n",
       "1             4.9          3.0           1.4          0.2\n",
       "2             4.7          3.2           1.3          0.2\n",
       "3             4.6          3.1           1.5          0.2\n",
       "4             5.0          3.6           1.4          0.2\n",
       "..            ...          ...           ...          ...\n",
       "145           6.7          3.0           5.2          2.3\n",
       "146           6.3          2.5           5.0          1.9\n",
       "147           6.5          3.0           5.2          2.0\n",
       "148           6.2          3.4           5.4          2.3\n",
       "149           5.9          3.0           5.1          1.8\n",
       "\n",
       "[150 rows x 4 columns]"
      ]
     },
     "execution_count": 18,
     "metadata": {},
     "output_type": "execute_result"
    }
   ],
   "source": [
    "x = df.drop('species',axis = 1)\n",
    "x"
   ]
  },
  {
   "cell_type": "code",
   "execution_count": 19,
   "id": "aa89bd7d-e0cb-4e5a-b474-ce8d79ab6d08",
   "metadata": {},
   "outputs": [
    {
     "data": {
      "text/plain": [
       "0      0\n",
       "1      0\n",
       "2      0\n",
       "3      0\n",
       "4      0\n",
       "      ..\n",
       "145    2\n",
       "146    2\n",
       "147    2\n",
       "148    2\n",
       "149    2\n",
       "Name: species, Length: 150, dtype: int32"
      ]
     },
     "execution_count": 19,
     "metadata": {},
     "output_type": "execute_result"
    }
   ],
   "source": [
    "y_ = df['species']\n",
    "y_"
   ]
  },
  {
   "cell_type": "code",
   "execution_count": 20,
   "id": "1bd31e41-f7d2-4066-a147-3512c81ec7b5",
   "metadata": {},
   "outputs": [
    {
     "name": "stderr",
     "output_type": "stream",
     "text": [
      "C:\\Users\\Aspir\\AppData\\Local\\Programs\\Python\\Python311\\Lib\\site-packages\\sklearn\\preprocessing\\_encoders.py:975: FutureWarning: `sparse` was renamed to `sparse_output` in version 1.2 and will be removed in 1.4. `sparse_output` is ignored unless you leave `sparse` to its default value.\n",
      "  warnings.warn(\n"
     ]
    }
   ],
   "source": [
    "from sklearn.preprocessing import OneHotEncoder\n",
    "y1 = np.array(y_)\n",
    "y2 = y1.reshape(-1, 1)\n",
    "encoder = OneHotEncoder(sparse = False)\n",
    "y = encoder.fit_transform(y2)"
   ]
  },
  {
   "cell_type": "code",
   "execution_count": 23,
   "id": "7268d9e3-3d91-4ce4-a6da-67d194907e6c",
   "metadata": {},
   "outputs": [
    {
     "name": "stdout",
     "output_type": "stream",
     "text": [
      "Xtrain: (120, 4)\n",
      "Xtest: (30, 4)\n",
      "Ytrain: (120, 3)\n",
      "Ytest: (30, 3)\n"
     ]
    }
   ],
   "source": [
    "from sklearn.model_selection import train_test_split\n",
    "xtrain,xtest,ytrain,ytest = train_test_split(x,y,test_size = 0.2)\n",
    "print('Xtrain:',xtrain.shape)\n",
    "print('Xtest:',xtest.shape)\n",
    "print('Ytrain:',ytrain.shape)\n",
    "print('Ytest:',ytest.shape)"
   ]
  },
  {
   "cell_type": "code",
   "execution_count": 24,
   "id": "b15f46cc-03b7-4695-91a2-757bb5ca6921",
   "metadata": {},
   "outputs": [
    {
     "name": "stdout",
     "output_type": "stream",
     "text": [
      "WARNING:tensorflow:From C:\\Users\\Aspir\\AppData\\Local\\Programs\\Python\\Python311\\Lib\\site-packages\\keras\\src\\losses.py:2976: The name tf.losses.sparse_softmax_cross_entropy is deprecated. Please use tf.compat.v1.losses.sparse_softmax_cross_entropy instead.\n",
      "\n"
     ]
    }
   ],
   "source": [
    "from keras.models import Sequential\n",
    "from keras.layers import Dense,Dropout,Flatten\n",
    "from keras.optimizers import Adam"
   ]
  },
  {
   "cell_type": "code",
   "execution_count": 80,
   "id": "bc6ce071-0ef4-40b3-9174-60072ad9b32f",
   "metadata": {},
   "outputs": [],
   "source": [
    "model = Sequential()\n",
    "model.add(Flatten(input_shape = (4,)))\n",
    "model.add(Dense(512,activation = 'relu'))\n",
    "model.add(Dropout(0.2))\n",
    "model.add(Dense(10,activation = 'relu'))\n",
    "model.add(Dense(3,activation = 'softmax'))"
   ]
  },
  {
   "cell_type": "code",
   "execution_count": 81,
   "id": "9e8b774b-d9fa-4992-b014-5b5cb85a47c9",
   "metadata": {},
   "outputs": [],
   "source": [
    "model.compile(optimizer = 'adam',loss = 'categorical_crossentropy',metrics = ['accuracy'])"
   ]
  },
  {
   "cell_type": "code",
   "execution_count": 82,
   "id": "fce594ad-5aac-42b0-af0a-75190c1f0705",
   "metadata": {},
   "outputs": [],
   "source": [
    "import tensorflow as tf"
   ]
  },
  {
   "cell_type": "code",
   "execution_count": 83,
   "id": "444d5ea0-9ca6-4135-b2af-a55f05343743",
   "metadata": {},
   "outputs": [],
   "source": [
    "tf_callbacks = tf.keras.callbacks.TensorBoard(log_dir = 'logs/fit',histogram_freq = 1)"
   ]
  },
  {
   "cell_type": "code",
   "execution_count": 84,
   "id": "5500e8e9-1f71-4265-9cc7-d32f8f2e838e",
   "metadata": {},
   "outputs": [
    {
     "name": "stdout",
     "output_type": "stream",
     "text": [
      "Epoch 1/50\n",
      "4/4 [==============================] - 2s 145ms/step - loss: 1.1434 - accuracy: 0.4000 - val_loss: 1.0892 - val_accuracy: 0.6000\n",
      "Epoch 2/50\n",
      "4/4 [==============================] - 0s 54ms/step - loss: 1.0880 - accuracy: 0.3750 - val_loss: 1.0515 - val_accuracy: 0.4333\n",
      "Epoch 3/50\n",
      "4/4 [==============================] - 0s 55ms/step - loss: 1.0517 - accuracy: 0.3667 - val_loss: 0.9559 - val_accuracy: 0.4333\n",
      "Epoch 4/50\n",
      "4/4 [==============================] - 0s 55ms/step - loss: 1.0183 - accuracy: 0.3250 - val_loss: 0.8778 - val_accuracy: 0.4333\n",
      "Epoch 5/50\n",
      "4/4 [==============================] - 0s 55ms/step - loss: 0.9654 - accuracy: 0.4000 - val_loss: 0.8483 - val_accuracy: 0.8333\n",
      "Epoch 6/50\n",
      "4/4 [==============================] - 0s 54ms/step - loss: 0.9142 - accuracy: 0.5417 - val_loss: 0.8058 - val_accuracy: 0.9000\n",
      "Epoch 7/50\n",
      "4/4 [==============================] - 0s 61ms/step - loss: 0.8815 - accuracy: 0.5917 - val_loss: 0.7546 - val_accuracy: 0.9667\n",
      "Epoch 8/50\n",
      "4/4 [==============================] - 0s 54ms/step - loss: 0.8588 - accuracy: 0.5417 - val_loss: 0.7176 - val_accuracy: 0.8333\n",
      "Epoch 9/50\n",
      "4/4 [==============================] - 0s 55ms/step - loss: 0.8432 - accuracy: 0.4750 - val_loss: 0.6986 - val_accuracy: 0.9333\n",
      "Epoch 10/50\n",
      "4/4 [==============================] - 0s 52ms/step - loss: 0.8033 - accuracy: 0.6417 - val_loss: 0.6581 - val_accuracy: 0.9333\n",
      "Epoch 11/50\n",
      "4/4 [==============================] - 0s 55ms/step - loss: 0.7303 - accuracy: 0.7417 - val_loss: 0.5536 - val_accuracy: 0.8333\n",
      "Epoch 12/50\n",
      "4/4 [==============================] - 0s 54ms/step - loss: 0.6382 - accuracy: 0.7750 - val_loss: 0.4820 - val_accuracy: 0.8333\n",
      "Epoch 13/50\n",
      "4/4 [==============================] - 0s 56ms/step - loss: 0.5719 - accuracy: 0.8583 - val_loss: 0.4480 - val_accuracy: 0.9000\n",
      "Epoch 14/50\n",
      "4/4 [==============================] - 0s 55ms/step - loss: 0.5366 - accuracy: 0.8250 - val_loss: 0.4225 - val_accuracy: 0.9667\n",
      "Epoch 15/50\n",
      "4/4 [==============================] - 0s 55ms/step - loss: 0.5114 - accuracy: 0.8250 - val_loss: 0.4046 - val_accuracy: 0.9667\n",
      "Epoch 16/50\n",
      "4/4 [==============================] - 0s 55ms/step - loss: 0.4828 - accuracy: 0.9083 - val_loss: 0.3859 - val_accuracy: 0.9667\n",
      "Epoch 17/50\n",
      "4/4 [==============================] - 0s 54ms/step - loss: 0.4618 - accuracy: 0.8917 - val_loss: 0.3673 - val_accuracy: 0.9667\n",
      "Epoch 18/50\n",
      "4/4 [==============================] - 0s 55ms/step - loss: 0.4433 - accuracy: 0.9083 - val_loss: 0.3595 - val_accuracy: 0.9667\n",
      "Epoch 19/50\n",
      "4/4 [==============================] - 0s 55ms/step - loss: 0.4246 - accuracy: 0.9417 - val_loss: 0.3581 - val_accuracy: 0.9333\n",
      "Epoch 20/50\n",
      "4/4 [==============================] - 0s 53ms/step - loss: 0.4156 - accuracy: 0.9417 - val_loss: 0.3558 - val_accuracy: 0.9667\n",
      "Epoch 21/50\n",
      "4/4 [==============================] - 0s 59ms/step - loss: 0.4056 - accuracy: 0.9167 - val_loss: 0.3415 - val_accuracy: 0.9333\n",
      "Epoch 22/50\n",
      "4/4 [==============================] - 0s 55ms/step - loss: 0.3917 - accuracy: 0.9583 - val_loss: 0.3207 - val_accuracy: 0.9667\n",
      "Epoch 23/50\n",
      "4/4 [==============================] - 0s 55ms/step - loss: 0.3935 - accuracy: 0.9083 - val_loss: 0.3032 - val_accuracy: 0.9667\n",
      "Epoch 24/50\n",
      "4/4 [==============================] - 0s 55ms/step - loss: 0.3810 - accuracy: 0.9333 - val_loss: 0.3049 - val_accuracy: 0.9667\n",
      "Epoch 25/50\n",
      "4/4 [==============================] - 0s 57ms/step - loss: 0.3603 - accuracy: 0.9500 - val_loss: 0.3065 - val_accuracy: 0.9667\n",
      "Epoch 26/50\n",
      "4/4 [==============================] - 0s 58ms/step - loss: 0.3358 - accuracy: 0.9667 - val_loss: 0.2945 - val_accuracy: 0.9667\n",
      "Epoch 27/50\n",
      "4/4 [==============================] - 0s 54ms/step - loss: 0.3573 - accuracy: 0.9417 - val_loss: 0.2882 - val_accuracy: 0.9667\n",
      "Epoch 28/50\n",
      "4/4 [==============================] - 0s 56ms/step - loss: 0.3483 - accuracy: 0.9167 - val_loss: 0.2817 - val_accuracy: 0.9667\n",
      "Epoch 29/50\n",
      "4/4 [==============================] - 0s 54ms/step - loss: 0.3181 - accuracy: 0.9583 - val_loss: 0.2673 - val_accuracy: 0.9667\n",
      "Epoch 30/50\n",
      "4/4 [==============================] - 0s 54ms/step - loss: 0.3176 - accuracy: 0.9417 - val_loss: 0.2698 - val_accuracy: 0.9667\n",
      "Epoch 31/50\n",
      "4/4 [==============================] - 0s 55ms/step - loss: 0.3130 - accuracy: 0.9333 - val_loss: 0.2678 - val_accuracy: 0.9667\n",
      "Epoch 32/50\n",
      "4/4 [==============================] - 0s 52ms/step - loss: 0.3072 - accuracy: 0.9500 - val_loss: 0.2672 - val_accuracy: 1.0000\n",
      "Epoch 33/50\n",
      "4/4 [==============================] - 0s 58ms/step - loss: 0.2907 - accuracy: 0.9583 - val_loss: 0.2456 - val_accuracy: 0.9667\n",
      "Epoch 34/50\n",
      "4/4 [==============================] - 0s 56ms/step - loss: 0.2846 - accuracy: 0.9417 - val_loss: 0.2386 - val_accuracy: 0.9667\n",
      "Epoch 35/50\n",
      "4/4 [==============================] - 0s 57ms/step - loss: 0.2800 - accuracy: 0.9667 - val_loss: 0.2454 - val_accuracy: 0.9667\n",
      "Epoch 36/50\n",
      "4/4 [==============================] - 0s 55ms/step - loss: 0.2669 - accuracy: 0.9500 - val_loss: 0.2444 - val_accuracy: 1.0000\n",
      "Epoch 37/50\n",
      "4/4 [==============================] - 0s 53ms/step - loss: 0.2522 - accuracy: 0.9583 - val_loss: 0.2238 - val_accuracy: 0.9667\n",
      "Epoch 38/50\n",
      "4/4 [==============================] - 0s 59ms/step - loss: 0.2497 - accuracy: 0.9417 - val_loss: 0.2159 - val_accuracy: 0.9667\n",
      "Epoch 39/50\n",
      "4/4 [==============================] - 0s 54ms/step - loss: 0.2474 - accuracy: 0.9583 - val_loss: 0.2176 - val_accuracy: 0.9667\n",
      "Epoch 40/50\n",
      "4/4 [==============================] - 0s 58ms/step - loss: 0.2441 - accuracy: 0.9583 - val_loss: 0.2098 - val_accuracy: 0.9667\n",
      "Epoch 41/50\n",
      "4/4 [==============================] - 0s 53ms/step - loss: 0.2308 - accuracy: 0.9667 - val_loss: 0.2057 - val_accuracy: 0.9667\n",
      "Epoch 42/50\n",
      "4/4 [==============================] - 0s 56ms/step - loss: 0.2246 - accuracy: 0.9750 - val_loss: 0.1994 - val_accuracy: 0.9667\n",
      "Epoch 43/50\n",
      "4/4 [==============================] - 0s 58ms/step - loss: 0.2184 - accuracy: 0.9583 - val_loss: 0.1903 - val_accuracy: 0.9667\n",
      "Epoch 44/50\n",
      "4/4 [==============================] - 0s 57ms/step - loss: 0.2119 - accuracy: 0.9583 - val_loss: 0.1864 - val_accuracy: 0.9667\n",
      "Epoch 45/50\n",
      "4/4 [==============================] - 0s 58ms/step - loss: 0.2027 - accuracy: 0.9833 - val_loss: 0.1963 - val_accuracy: 1.0000\n",
      "Epoch 46/50\n",
      "4/4 [==============================] - 0s 56ms/step - loss: 0.2168 - accuracy: 0.9500 - val_loss: 0.1837 - val_accuracy: 0.9667\n",
      "Epoch 47/50\n",
      "4/4 [==============================] - 0s 58ms/step - loss: 0.2102 - accuracy: 0.9583 - val_loss: 0.1703 - val_accuracy: 0.9667\n",
      "Epoch 48/50\n",
      "4/4 [==============================] - 0s 57ms/step - loss: 0.2023 - accuracy: 0.9583 - val_loss: 0.1708 - val_accuracy: 0.9667\n",
      "Epoch 49/50\n",
      "4/4 [==============================] - 0s 58ms/step - loss: 0.1777 - accuracy: 0.9750 - val_loss: 0.1687 - val_accuracy: 0.9667\n",
      "Epoch 50/50\n",
      "4/4 [==============================] - 0s 56ms/step - loss: 0.1758 - accuracy: 0.9750 - val_loss: 0.1605 - val_accuracy: 0.9667\n"
     ]
    }
   ],
   "source": [
    "history = model.fit(xtrain,ytrain,validation_data = (xtest,ytest),epochs = 50,callbacks = tf_callbacks)"
   ]
  },
  {
   "cell_type": "code",
   "execution_count": 85,
   "id": "e566eacc-8b2f-4098-b78e-f9e703038be0",
   "metadata": {},
   "outputs": [
    {
     "name": "stdout",
     "output_type": "stream",
     "text": [
      "The tensorboard extension is already loaded. To reload it, use:\n",
      "  %reload_ext tensorboard\n"
     ]
    }
   ],
   "source": [
    "load_ext tensorboard"
   ]
  },
  {
   "cell_type": "code",
   "execution_count": 86,
   "id": "9c783c5b-b0a4-4fab-8012-6e779049157e",
   "metadata": {},
   "outputs": [
    {
     "data": {
      "text/plain": [
       "Reusing TensorBoard on port 6006 (pid 10000), started 22:18:31 ago. (Use '!kill 10000' to kill it.)"
      ]
     },
     "metadata": {},
     "output_type": "display_data"
    },
    {
     "data": {
      "text/html": [
       "\n",
       "      <iframe id=\"tensorboard-frame-40bd63ed416aa17a\" width=\"100%\" height=\"800\" frameborder=\"0\">\n",
       "      </iframe>\n",
       "      <script>\n",
       "        (function() {\n",
       "          const frame = document.getElementById(\"tensorboard-frame-40bd63ed416aa17a\");\n",
       "          const url = new URL(\"/\", window.location);\n",
       "          const port = 6006;\n",
       "          if (port) {\n",
       "            url.port = port;\n",
       "          }\n",
       "          frame.src = url;\n",
       "        })();\n",
       "      </script>\n",
       "    "
      ],
      "text/plain": [
       "<IPython.core.display.HTML object>"
      ]
     },
     "metadata": {},
     "output_type": "display_data"
    }
   ],
   "source": [
    "tensorboard --logdir logs/fit"
   ]
  },
  {
   "cell_type": "code",
   "execution_count": 87,
   "id": "1984d55e-05b7-4fa3-8194-e0b6f8e22b0d",
   "metadata": {},
   "outputs": [
    {
     "data": {
      "image/png": "[encoded data removed]",
      "text/plain": [
       "<Figure size 640x480 with 1 Axes>"
      ]
     },
     "metadata": {},
     "output_type": "display_data"
    }
   ],
   "source": [
    "import matplotlib.pyplot as plt\n",
    "plt.plot(history.history['accuracy'])\n",
    "plt.plot(history.history['val_accuracy'])\n",
    "plt.title('Model Accuracy')\n",
    "plt.ylabel('Accuracy')\n",
    "plt.xlabel('Epoch')\n",
    "plt.legend(['train','test'],loc = 'upper left')\n",
    "plt.show()"
   ]
  },
  {
   "cell_type": "code",
   "execution_count": 88,
   "id": "97669503-afab-46da-a890-3ae7dc0f5d3e",
   "metadata": {},
   "outputs": [
    {
     "data": {
      "image/png": "[encoded data removed]",
      "text/plain": [
       "<Figure size 640x480 with 1 Axes>"
      ]
     },
     "metadata": {},
     "output_type": "display_data"
    }
   ],
   "source": [
    "plt.plot(history.history['loss'])\n",
    "plt.plot(history.history['val_loss'])\n",
    "plt.title('Model Loss')\n",
    "plt.ylabel('Loss')\n",
    "plt.xlabel('Epoch')\n",
    "plt.legend(['train','test'],loc = 'upper left')\n",
    "plt.show()"
   ]
  },
  {
   "cell_type": "code",
   "execution_count": null,
   "id": "e02e4859-0192-49fc-ae84-08329d976d8b",
   "metadata": {},
   "outputs": [],
   "source": []
  }
 ],
 "metadata": {
  "kernelspec": {
   "display_name": "Python 3 (ipykernel)",
   "language": "python",
   "name": "python3"
  },
  "language_info": {
   "codemirror_mode": {
    "name": "ipython",
    "version": 3
   },
   "file_extension": ".py",
   "mimetype": "text/x-python",
   "name": "python",
   "nbconvert_exporter": "python",
   "pygments_lexer": "ipython3",
   "version": "3.11.1"
  }
 },
 "nbformat": 4,
 "nbformat_minor": 5
}
