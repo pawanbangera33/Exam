{
 "cells": [
  {
   "cell_type": "code",
   "execution_count": 1,
   "id": "72794eb9-a14b-4684-87ce-bf392867c750",
   "metadata": {},
   "outputs": [
    {
     "name": "stdout",
     "output_type": "stream",
     "text": [
      "WARNING:tensorflow:From C:\\Users\\Aspir\\AppData\\Local\\Programs\\Python\\Python311\\Lib\\site-packages\\keras\\src\\losses.py:2976: The name tf.losses.sparse_softmax_cross_entropy is deprecated. Please use tf.compat.v1.losses.sparse_softmax_cross_entropy instead.\n",
      "\n"
     ]
    }
   ],
   "source": [
    "import tensorflow as tf\n",
    "from tensorflow.keras import Sequential\n",
    "from tensorflow.keras.layers import Conv1D,Dense,Dropout,Flatten\n",
    "from tensorflow.keras.optimizers import Adam"
   ]
  },
  {
   "cell_type": "code",
   "execution_count": 2,
   "id": "9a2fe44b-1200-4eb3-a54e-9cb730a87c39",
   "metadata": {},
   "outputs": [],
   "source": [
    "import numpy as np\n",
    "import pandas as pd\n",
    "import matplotlib.pyplot as plt"
   ]
  },
  {
   "cell_type": "code",
   "execution_count": 3,
   "id": "1963acee-a3cc-44ea-8d9e-b4809d6893e5",
   "metadata": {},
   "outputs": [],
   "source": [
    "from sklearn.preprocessing import StandardScaler\n",
    "from sklearn.model_selection import train_test_split\n",
    "from sklearn import datasets,metrics"
   ]
  },
  {
   "cell_type": "code",
   "execution_count": 4,
   "id": "c67e125d-de24-4f2c-a3f8-aec99cf41059",
   "metadata": {},
   "outputs": [],
   "source": [
    "cancerData = datasets.load_breast_cancer()"
   ]
  },
  {
   "cell_type": "code",
   "execution_count": 5,
   "id": "8a2aac52-c80c-45d8-ab8c-0b00b6a71a51",
   "metadata": {},
   "outputs": [
    {
     "data": {
      "text/html": [
       "<div>\n",
       "<style scoped>\n",
       "    .dataframe tbody tr th:only-of-type {\n",
       "        vertical-align: middle;\n",
       "    }\n",
       "\n",
       "    .dataframe tbody tr th {\n",
       "        vertical-align: top;\n",
       "    }\n",
       "\n",
       "    .dataframe thead th {\n",
       "        text-align: right;\n",
       "    }\n",
       "</style>\n",
       "<table border=\"1\" class=\"dataframe\">\n",
       "  <thead>\n",
       "    <tr style=\"text-align: right;\">\n",
       "      <th></th>\n",
       "      <th>mean radius</th>\n",
       "      <th>mean texture</th>\n",
       "      <th>mean perimeter</th>\n",
       "      <th>mean area</th>\n",
       "      <th>mean smoothness</th>\n",
       "      <th>mean compactness</th>\n",
       "      <th>mean concavity</th>\n",
       "      <th>mean concave points</th>\n",
       "      <th>mean symmetry</th>\n",
       "      <th>mean fractal dimension</th>\n",
       "      <th>...</th>\n",
       "      <th>worst radius</th>\n",
       "      <th>worst texture</th>\n",
       "      <th>worst perimeter</th>\n",
       "      <th>worst area</th>\n",
       "      <th>worst smoothness</th>\n",
       "      <th>worst compactness</th>\n",
       "      <th>worst concavity</th>\n",
       "      <th>worst concave points</th>\n",
       "      <th>worst symmetry</th>\n",
       "      <th>worst fractal dimension</th>\n",
       "    </tr>\n",
       "  </thead>\n",
       "  <tbody>\n",
       "    <tr>\n",
       "      <th>0</th>\n",
       "      <td>17.99</td>\n",
       "      <td>10.38</td>\n",
       "      <td>122.80</td>\n",
       "      <td>1001.0</td>\n",
       "      <td>0.11840</td>\n",
       "      <td>0.27760</td>\n",
       "      <td>0.3001</td>\n",
       "      <td>0.14710</td>\n",
       "      <td>0.2419</td>\n",
       "      <td>0.07871</td>\n",
       "      <td>...</td>\n",
       "      <td>25.38</td>\n",
       "      <td>17.33</td>\n",
       "      <td>184.60</td>\n",
       "      <td>2019.0</td>\n",
       "      <td>0.1622</td>\n",
       "      <td>0.6656</td>\n",
       "      <td>0.7119</td>\n",
       "      <td>0.2654</td>\n",
       "      <td>0.4601</td>\n",
       "      <td>0.11890</td>\n",
       "    </tr>\n",
       "    <tr>\n",
       "      <th>1</th>\n",
       "      <td>20.57</td>\n",
       "      <td>17.77</td>\n",
       "      <td>132.90</td>\n",
       "      <td>1326.0</td>\n",
       "      <td>0.08474</td>\n",
       "      <td>0.07864</td>\n",
       "      <td>0.0869</td>\n",
       "      <td>0.07017</td>\n",
       "      <td>0.1812</td>\n",
       "      <td>0.05667</td>\n",
       "      <td>...</td>\n",
       "      <td>24.99</td>\n",
       "      <td>23.41</td>\n",
       "      <td>158.80</td>\n",
       "      <td>1956.0</td>\n",
       "      <td>0.1238</td>\n",
       "      <td>0.1866</td>\n",
       "      <td>0.2416</td>\n",
       "      <td>0.1860</td>\n",
       "      <td>0.2750</td>\n",
       "      <td>0.08902</td>\n",
       "    </tr>\n",
       "    <tr>\n",
       "      <th>2</th>\n",
       "      <td>19.69</td>\n",
       "      <td>21.25</td>\n",
       "      <td>130.00</td>\n",
       "      <td>1203.0</td>\n",
       "      <td>0.10960</td>\n",
       "      <td>0.15990</td>\n",
       "      <td>0.1974</td>\n",
       "      <td>0.12790</td>\n",
       "      <td>0.2069</td>\n",
       "      <td>0.05999</td>\n",
       "      <td>...</td>\n",
       "      <td>23.57</td>\n",
       "      <td>25.53</td>\n",
       "      <td>152.50</td>\n",
       "      <td>1709.0</td>\n",
       "      <td>0.1444</td>\n",
       "      <td>0.4245</td>\n",
       "      <td>0.4504</td>\n",
       "      <td>0.2430</td>\n",
       "      <td>0.3613</td>\n",
       "      <td>0.08758</td>\n",
       "    </tr>\n",
       "    <tr>\n",
       "      <th>3</th>\n",
       "      <td>11.42</td>\n",
       "      <td>20.38</td>\n",
       "      <td>77.58</td>\n",
       "      <td>386.1</td>\n",
       "      <td>0.14250</td>\n",
       "      <td>0.28390</td>\n",
       "      <td>0.2414</td>\n",
       "      <td>0.10520</td>\n",
       "      <td>0.2597</td>\n",
       "      <td>0.09744</td>\n",
       "      <td>...</td>\n",
       "      <td>14.91</td>\n",
       "      <td>26.50</td>\n",
       "      <td>98.87</td>\n",
       "      <td>567.7</td>\n",
       "      <td>0.2098</td>\n",
       "      <td>0.8663</td>\n",
       "      <td>0.6869</td>\n",
       "      <td>0.2575</td>\n",
       "      <td>0.6638</td>\n",
       "      <td>0.17300</td>\n",
       "    </tr>\n",
       "    <tr>\n",
       "      <th>4</th>\n",
       "      <td>20.29</td>\n",
       "      <td>14.34</td>\n",
       "      <td>135.10</td>\n",
       "      <td>1297.0</td>\n",
       "      <td>0.10030</td>\n",
       "      <td>0.13280</td>\n",
       "      <td>0.1980</td>\n",
       "      <td>0.10430</td>\n",
       "      <td>0.1809</td>\n",
       "      <td>0.05883</td>\n",
       "      <td>...</td>\n",
       "      <td>22.54</td>\n",
       "      <td>16.67</td>\n",
       "      <td>152.20</td>\n",
       "      <td>1575.0</td>\n",
       "      <td>0.1374</td>\n",
       "      <td>0.2050</td>\n",
       "      <td>0.4000</td>\n",
       "      <td>0.1625</td>\n",
       "      <td>0.2364</td>\n",
       "      <td>0.07678</td>\n",
       "    </tr>\n",
       "  </tbody>\n",
       "</table>\n",
       "<p>5 rows × 30 columns</p>\n",
       "</div>"
      ],
      "text/plain": [
       "   mean radius  mean texture  mean perimeter  mean area  mean smoothness  \\\n",
       "0        17.99         10.38          122.80     1001.0          0.11840   \n",
       "1        20.57         17.77          132.90     1326.0          0.08474   \n",
       "2        19.69         21.25          130.00     1203.0          0.10960   \n",
       "3        11.42         20.38           77.58      386.1          0.14250   \n",
       "4        20.29         14.34          135.10     1297.0          0.10030   \n",
       "\n",
       "   mean compactness  mean concavity  mean concave points  mean symmetry  \\\n",
       "0           0.27760          0.3001              0.14710         0.2419   \n",
       "1           0.07864          0.0869              0.07017         0.1812   \n",
       "2           0.15990          0.1974              0.12790         0.2069   \n",
       "3           0.28390          0.2414              0.10520         0.2597   \n",
       "4           0.13280          0.1980              0.10430         0.1809   \n",
       "\n",
       "   mean fractal dimension  ...  worst radius  worst texture  worst perimeter  \\\n",
       "0                 0.07871  ...         25.38          17.33           184.60   \n",
       "1                 0.05667  ...         24.99          23.41           158.80   \n",
       "2                 0.05999  ...         23.57          25.53           152.50   \n",
       "3                 0.09744  ...         14.91          26.50            98.87   \n",
       "4                 0.05883  ...         22.54          16.67           152.20   \n",
       "\n",
       "   worst area  worst smoothness  worst compactness  worst concavity  \\\n",
       "0      2019.0            0.1622             0.6656           0.7119   \n",
       "1      1956.0            0.1238             0.1866           0.2416   \n",
       "2      1709.0            0.1444             0.4245           0.4504   \n",
       "3       567.7            0.2098             0.8663           0.6869   \n",
       "4      1575.0            0.1374             0.2050           0.4000   \n",
       "\n",
       "   worst concave points  worst symmetry  worst fractal dimension  \n",
       "0                0.2654          0.4601                  0.11890  \n",
       "1                0.1860          0.2750                  0.08902  \n",
       "2                0.2430          0.3613                  0.08758  \n",
       "3                0.2575          0.6638                  0.17300  \n",
       "4                0.1625          0.2364                  0.07678  \n",
       "\n",
       "[5 rows x 30 columns]"
      ]
     },
     "execution_count": 5,
     "metadata": {},
     "output_type": "execute_result"
    }
   ],
   "source": [
    "x = pd.DataFrame(data = cancerData.data, columns = cancerData.feature_names)\n",
    "x.head()"
   ]
  },
  {
   "cell_type": "code",
   "execution_count": 6,
   "id": "3ef3b2f6-f38b-4aaf-afe5-45c314e0f0d2",
   "metadata": {},
   "outputs": [],
   "source": [
    "y = cancerData.target"
   ]
  },
  {
   "cell_type": "code",
   "execution_count": 7,
   "id": "fd935770-53b4-4e20-8a41-45d960204609",
   "metadata": {},
   "outputs": [],
   "source": [
    "xtrain,xtest,ytrain,ytest = train_test_split(x,y,test_size = 0.1,stratify = y)"
   ]
  },
  {
   "cell_type": "code",
   "execution_count": 8,
   "id": "92be5bcc-41e9-45c3-9096-3c611e2f1cc5",
   "metadata": {},
   "outputs": [],
   "source": [
    "scaler = StandardScaler()\n",
    "xtrain = scaler.fit_transform(xtrain)\n",
    "xtest = scaler.transform(xtest)"
   ]
  },
  {
   "cell_type": "code",
   "execution_count": 9,
   "id": "4b01e05e-800d-4a6b-a55c-26ae905a72d2",
   "metadata": {},
   "outputs": [],
   "source": [
    "xtrain = xtrain.reshape(512,30,1)\n",
    "xtest = xtest.reshape(57,30,1)"
   ]
  },
  {
   "cell_type": "code",
   "execution_count": 12,
   "id": "529d823d-0767-43f0-ba40-87f4c6aaac32",
   "metadata": {},
   "outputs": [],
   "source": [
    "model = Sequential()\n",
    "model.add(Conv1D(filters = 16,kernel_size = 2,activation = 'relu',input_shape = (30,1)))\n",
    "model.add(Dropout(0.2))\n",
    "model.add(Conv1D(32,2,activation = 'relu'))\n",
    "model.add(Dropout(0.2))\n",
    "model.add(Flatten())\n",
    "model.add(Dense(32,activation = 'relu'))\n",
    "model.add(Dropout(0.2))\n",
    "model.add(Dense(1,activation = 'sigmoid'))"
   ]
  },
  {
   "cell_type": "code",
   "execution_count": 13,
   "id": "98dd74a6-f082-46d6-beb0-c7606933fc63",
   "metadata": {},
   "outputs": [],
   "source": [
    "model.compile(optimizer = Adam(learning_rate = 0.0001),loss = 'binary_crossentropy',metrics = ['accuracy'])"
   ]
  },
  {
   "cell_type": "code",
   "execution_count": 14,
   "id": "7ce8b14f-526d-4fe0-9633-4cb654ac2a9d",
   "metadata": {},
   "outputs": [
    {
     "name": "stdout",
     "output_type": "stream",
     "text": [
      "Epoch 1/35\n",
      "WARNING:tensorflow:From C:\\Users\\Aspir\\AppData\\Local\\Programs\\Python\\Python311\\Lib\\site-packages\\keras\\src\\utils\\tf_utils.py:492: The name tf.ragged.RaggedTensorValue is deprecated. Please use tf.compat.v1.ragged.RaggedTensorValue instead.\n",
      "\n",
      "WARNING:tensorflow:From C:\\Users\\Aspir\\AppData\\Local\\Programs\\Python\\Python311\\Lib\\site-packages\\keras\\src\\engine\\base_layer_utils.py:384: The name tf.executing_eagerly_outside_functions is deprecated. Please use tf.compat.v1.executing_eagerly_outside_functions instead.\n",
      "\n",
      "16/16 [==============================] - 3s 38ms/step - loss: 0.6968 - accuracy: 0.5254 - val_loss: 0.6582 - val_accuracy: 0.6491\n",
      "Epoch 2/35\n",
      "16/16 [==============================] - 0s 13ms/step - loss: 0.6341 - accuracy: 0.7539 - val_loss: 0.5914 - val_accuracy: 0.8772\n",
      "Epoch 3/35\n",
      "16/16 [==============================] - 0s 14ms/step - loss: 0.5724 - accuracy: 0.8418 - val_loss: 0.5280 - val_accuracy: 0.8772\n",
      "Epoch 4/35\n",
      "16/16 [==============================] - 0s 12ms/step - loss: 0.5147 - accuracy: 0.8965 - val_loss: 0.4636 - val_accuracy: 0.9474\n",
      "Epoch 5/35\n",
      "16/16 [==============================] - 0s 12ms/step - loss: 0.4600 - accuracy: 0.8926 - val_loss: 0.3999 - val_accuracy: 0.9474\n",
      "Epoch 6/35\n",
      "16/16 [==============================] - 0s 12ms/step - loss: 0.4036 - accuracy: 0.9121 - val_loss: 0.3433 - val_accuracy: 0.9649\n",
      "Epoch 7/35\n",
      "16/16 [==============================] - 0s 11ms/step - loss: 0.3659 - accuracy: 0.9219 - val_loss: 0.2935 - val_accuracy: 0.9649\n",
      "Epoch 8/35\n",
      "16/16 [==============================] - 0s 15ms/step - loss: 0.3198 - accuracy: 0.9258 - val_loss: 0.2499 - val_accuracy: 0.9649\n",
      "Epoch 9/35\n",
      "16/16 [==============================] - 0s 12ms/step - loss: 0.2828 - accuracy: 0.9355 - val_loss: 0.2152 - val_accuracy: 0.9649\n",
      "Epoch 10/35\n",
      "16/16 [==============================] - 0s 11ms/step - loss: 0.2540 - accuracy: 0.9355 - val_loss: 0.1867 - val_accuracy: 0.9825\n",
      "Epoch 11/35\n",
      "16/16 [==============================] - 0s 12ms/step - loss: 0.2413 - accuracy: 0.9316 - val_loss: 0.1641 - val_accuracy: 0.9825\n",
      "Epoch 12/35\n",
      "16/16 [==============================] - 0s 15ms/step - loss: 0.2115 - accuracy: 0.9395 - val_loss: 0.1446 - val_accuracy: 0.9825\n",
      "Epoch 13/35\n",
      "16/16 [==============================] - 0s 12ms/step - loss: 0.2065 - accuracy: 0.9375 - val_loss: 0.1291 - val_accuracy: 0.9825\n",
      "Epoch 14/35\n",
      "16/16 [==============================] - 0s 12ms/step - loss: 0.1796 - accuracy: 0.9512 - val_loss: 0.1159 - val_accuracy: 0.9825\n",
      "Epoch 15/35\n",
      "16/16 [==============================] - 0s 11ms/step - loss: 0.1730 - accuracy: 0.9492 - val_loss: 0.1060 - val_accuracy: 0.9825\n",
      "Epoch 16/35\n",
      "16/16 [==============================] - 0s 12ms/step - loss: 0.1681 - accuracy: 0.9570 - val_loss: 0.0973 - val_accuracy: 0.9825\n",
      "Epoch 17/35\n",
      "16/16 [==============================] - 0s 11ms/step - loss: 0.1582 - accuracy: 0.9570 - val_loss: 0.0896 - val_accuracy: 1.0000\n",
      "Epoch 18/35\n",
      "16/16 [==============================] - 0s 12ms/step - loss: 0.1402 - accuracy: 0.9590 - val_loss: 0.0832 - val_accuracy: 1.0000\n",
      "Epoch 19/35\n",
      "16/16 [==============================] - 0s 12ms/step - loss: 0.1386 - accuracy: 0.9551 - val_loss: 0.0771 - val_accuracy: 1.0000\n",
      "Epoch 20/35\n",
      "16/16 [==============================] - 0s 12ms/step - loss: 0.1268 - accuracy: 0.9648 - val_loss: 0.0721 - val_accuracy: 1.0000\n",
      "Epoch 21/35\n",
      "16/16 [==============================] - 0s 11ms/step - loss: 0.1268 - accuracy: 0.9590 - val_loss: 0.0681 - val_accuracy: 1.0000\n",
      "Epoch 22/35\n",
      "16/16 [==============================] - 0s 12ms/step - loss: 0.1206 - accuracy: 0.9688 - val_loss: 0.0653 - val_accuracy: 1.0000\n",
      "Epoch 23/35\n",
      "16/16 [==============================] - 0s 11ms/step - loss: 0.1185 - accuracy: 0.9648 - val_loss: 0.0610 - val_accuracy: 1.0000\n",
      "Epoch 24/35\n",
      "16/16 [==============================] - 0s 11ms/step - loss: 0.1139 - accuracy: 0.9629 - val_loss: 0.0578 - val_accuracy: 1.0000\n",
      "Epoch 25/35\n",
      "16/16 [==============================] - 0s 11ms/step - loss: 0.1175 - accuracy: 0.9609 - val_loss: 0.0551 - val_accuracy: 1.0000\n",
      "Epoch 26/35\n",
      "16/16 [==============================] - 0s 14ms/step - loss: 0.1027 - accuracy: 0.9746 - val_loss: 0.0523 - val_accuracy: 1.0000\n",
      "Epoch 27/35\n",
      "16/16 [==============================] - 0s 12ms/step - loss: 0.1136 - accuracy: 0.9609 - val_loss: 0.0514 - val_accuracy: 1.0000\n",
      "Epoch 28/35\n",
      "16/16 [==============================] - 0s 12ms/step - loss: 0.1128 - accuracy: 0.9707 - val_loss: 0.0496 - val_accuracy: 1.0000\n",
      "Epoch 29/35\n",
      "16/16 [==============================] - 0s 12ms/step - loss: 0.1051 - accuracy: 0.9707 - val_loss: 0.0476 - val_accuracy: 1.0000\n",
      "Epoch 30/35\n",
      "16/16 [==============================] - 0s 11ms/step - loss: 0.0906 - accuracy: 0.9746 - val_loss: 0.0457 - val_accuracy: 1.0000\n",
      "Epoch 31/35\n",
      "16/16 [==============================] - 0s 11ms/step - loss: 0.0933 - accuracy: 0.9746 - val_loss: 0.0440 - val_accuracy: 1.0000\n",
      "Epoch 32/35\n",
      "16/16 [==============================] - 0s 11ms/step - loss: 0.1061 - accuracy: 0.9590 - val_loss: 0.0424 - val_accuracy: 1.0000\n",
      "Epoch 33/35\n",
      "16/16 [==============================] - 0s 12ms/step - loss: 0.0978 - accuracy: 0.9688 - val_loss: 0.0412 - val_accuracy: 1.0000\n",
      "Epoch 34/35\n",
      "16/16 [==============================] - 0s 12ms/step - loss: 0.0940 - accuracy: 0.9688 - val_loss: 0.0401 - val_accuracy: 1.0000\n",
      "Epoch 35/35\n",
      "16/16 [==============================] - 0s 19ms/step - loss: 0.0978 - accuracy: 0.9668 - val_loss: 0.0392 - val_accuracy: 1.0000\n"
     ]
    }
   ],
   "source": [
    "history = model.fit(xtrain,ytrain,epochs = 35,verbose = 1,validation_data = (xtest,ytest))"
   ]
  },
  {
   "cell_type": "code",
   "execution_count": 15,
   "id": "a4561c86-3c0e-4f6a-b8d7-6a668e4c742d",
   "metadata": {},
   "outputs": [],
   "source": [
    "load_ext tensorboard"
   ]
  },
  {
   "cell_type": "code",
   "execution_count": 16,
   "id": "cff13d6a-a86e-4ad2-a9b6-e6706690354b",
   "metadata": {},
   "outputs": [
    {
     "data": {
      "text/plain": [
       "Reusing TensorBoard on port 6006 (pid 10000), started 2:30:10 ago. (Use '!kill 10000' to kill it.)"
      ]
     },
     "metadata": {},
     "output_type": "display_data"
    },
    {
     "data": {
      "text/html": [
       "\n",
       "      <iframe id=\"tensorboard-frame-967014bba60988b0\" width=\"100%\" height=\"800\" frameborder=\"0\">\n",
       "      </iframe>\n",
       "      <script>\n",
       "        (function() {\n",
       "          const frame = document.getElementById(\"tensorboard-frame-967014bba60988b0\");\n",
       "          const url = new URL(\"/\", window.location);\n",
       "          const port = 6006;\n",
       "          if (port) {\n",
       "            url.port = port;\n",
       "          }\n",
       "          frame.src = url;\n",
       "        })();\n",
       "      </script>\n",
       "    "
      ],
      "text/plain": [
       "<IPython.core.display.HTML object>"
      ]
     },
     "metadata": {},
     "output_type": "display_data"
    }
   ],
   "source": [
    "tensorboard --logdir logs/fit"
   ]
  },
  {
   "cell_type": "code",
   "execution_count": 17,
   "id": "5d76f3cb-fbf8-44f2-8466-ee73d0d2636a",
   "metadata": {},
   "outputs": [
    {
     "data": {
      "image/png": "[encoded data removed]",
      "text/plain": [
       "<Figure size 640x480 with 1 Axes>"
      ]
     },
     "metadata": {},
     "output_type": "display_data"
    }
   ],
   "source": [
    "import matplotlib.pyplot as plt\n",
    "plt.plot(history.history['accuracy'])\n",
    "plt.plot(history.history['val_accuracy'])\n",
    "plt.title('Model Accuracy')\n",
    "plt.ylabel('Accuracy')\n",
    "plt.xlabel('Epoch')\n",
    "plt.legend(['train','test'],loc = 'upper left')\n",
    "plt.show()"
   ]
  },
  {
   "cell_type": "code",
   "execution_count": 18,
   "id": "6a6d2f80-c515-45f5-9c4b-13c5fd923db4",
   "metadata": {},
   "outputs": [
    {
     "data": {
      "image/png": "[encoded data removed]",
      "text/plain": [
       "<Figure size 640x480 with 1 Axes>"
      ]
     },
     "metadata": {},
     "output_type": "display_data"
    }
   ],
   "source": [
    "plt.plot(history.history['loss'])\n",
    "plt.plot(history.history['val_loss'])\n",
    "plt.title('Model Loss')\n",
    "plt.ylabel('Loss')\n",
    "plt.xlabel('Epoch')\n",
    "plt.legend(['train','test'],loc = 'upper left')\n",
    "plt.show()"
   ]
  },
  {
   "cell_type": "code",
   "execution_count": null,
   "id": "8105b918-1161-4233-a897-98c4a57db533",
   "metadata": {},
   "outputs": [],
   "source": []
  }
 ],
 "metadata": {
  "kernelspec": {
   "display_name": "Python 3 (ipykernel)",
   "language": "python",
   "name": "python3"
  },
  "language_info": {
   "codemirror_mode": {
    "name": "ipython",
    "version": 3
   },
   "file_extension": ".py",
   "mimetype": "text/x-python",
   "name": "python",
   "nbconvert_exporter": "python",
   "pygments_lexer": "ipython3",
   "version": "3.11.1"
  }
 },
 "nbformat": 4,
 "nbformat_minor": 5
}
